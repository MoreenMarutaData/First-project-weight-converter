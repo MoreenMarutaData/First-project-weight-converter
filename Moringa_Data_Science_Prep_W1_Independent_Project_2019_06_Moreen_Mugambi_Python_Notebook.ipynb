{
  "nbformat": 4,
  "nbformat_minor": 0,
  "metadata": {
    "colab": {
      "name": "Moringa_Data_Science_Prep_W1_Independent_Project_2019_06_Moreen_Mugambi_Python_Notebook.ipynb",
      "provenance": [],
      "authorship_tag": "ABX9TyPkJxF9z+e8KyXdlF/8Bu4W",
      "include_colab_link": true
    },
    "kernelspec": {
      "name": "python3",
      "display_name": "Python 3"
    },
    "language_info": {
      "name": "python"
    }
  },
  "cells": [
    {
      "cell_type": "markdown",
      "metadata": {
        "id": "view-in-github",
        "colab_type": "text"
      },
      "source": [
        "<a href=\"https://colab.research.google.com/github/MoreenMarutaData/First-project-weight-converter/blob/main/Moringa_Data_Science_Prep_W1_Independent_Project_2019_06_Moreen_Mugambi_Python_Notebook.ipynb\" target=\"_parent\"><img src=\"https://colab.research.google.com/assets/colab-badge.svg\" alt=\"Open In Colab\"/></a>"
      ]
    },
    {
      "cell_type": "markdown",
      "source": [
        "## THE BEGINNING"
      ],
      "metadata": {
        "id": "Ll32vj9bTCFi"
      }
    },
    {
      "cell_type": "code",
      "metadata": {
        "id": "pdyYFBmqJSwC"
      },
      "source": [
        "import pandas as pd"
      ],
      "execution_count": 1,
      "outputs": []
    },
    {
      "cell_type": "code",
      "metadata": {
        "colab": {
          "base_uri": "https://localhost:8080/"
        },
        "id": "8WdTVd0pPjc7",
        "outputId": "63f71fae-d127-47d6-afd1-d3d9d2356ac6"
      },
      "source": [
        "\n",
        "# Take in two values from a user (both in pounds) then convert those values to kilograms.\n",
        "\n",
        "p = int(input(\"Enter your first weight value in pounds: \"))\n",
        "\n",
        "q = int(input(\"Enter your second weight value in pounds: \"))\n",
        "\n",
        "\n",
        "# The values are in pounds and we want to convert them to kilograms \n",
        "# 1 pound = 0.4536 kilograms\n",
        "# k is the constant = 0.4536\n",
        "# To convert the inputs\n",
        "\n",
        "pk = p * 0.4536\n",
        "print(\"This is your first value in Kilograms: \", pk)\n",
        "\n",
        "qk = q * 0.4536\n",
        "print(\"This is your second value in Kilograms: \", qk)\n",
        "\n",
        "# Perform the sum of the values.\n",
        "K = pk + qk\n",
        "print(\"The sum of the values is: \", K)\n",
        "\n",
        "# Perform the average of the values.\n",
        "# the average is usually the sum of the values provided divided by the number\n",
        "# of values provided\n",
        "# the number of values here is 2\n",
        "\n",
        "print(\"The average of the values is: \", K/2)\n",
        "\n",
        "# Find the difference between both values.  \n",
        "# since we want a positive difference\n",
        "\n",
        "D1 = pk - qk \n",
        "if D1 > 0:\n",
        " print(\"The difference between the values is: \", D1)\n",
        "else:\n",
        " print(\"sorry, negative response\")\n",
        "\n",
        "D2 = qk - pk\n",
        "if D2 > 0:\n",
        " print(\"The difference between the values is: \", D2)\n",
        "else:\n",
        " print(\"sorry, negative response\")\n",
        "\n",
        "# Find the quotient when one value is divided by the other.\n",
        " print(\"The quotient is: \", pk / qk)\n",
        "\n",
        " print(\"The quotient is: \", qk / pk)\n",
        "\n",
        "# Determine and print out whether any of the numbers are even or odd.\n",
        "# an even number is a number that has no remainders when divided by 2\n",
        "# an odd number number is a number that has a remainder when divided by 2\n",
        "\n",
        "if (pk % 2) == 0:\n",
        "  print(\"The first value is an even number\")\n",
        "else:\n",
        "  print(\"The first value is an odd number\")\n",
        "\n",
        "if (qk % 2) == 0:\n",
        "  print(\"The second value is an even number\")\n",
        "else:\n",
        "  print(\"The second value is an odd number\")\n",
        "\n",
        "\n",
        "\n"
      ],
      "execution_count": 26,
      "outputs": [
        {
          "output_type": "stream",
          "name": "stdout",
          "text": [
            "Enter your first weight value in pounds: 987\n",
            "Enter your second weight value in pounds: 97\n",
            "This is your first value in Kilograms:  447.7032\n",
            "This is your second value in Kilograms:  43.9992\n",
            "The sum of the values is:  491.7024\n",
            "The average of the values is:  245.8512\n",
            "The difference between the values is:  403.70399999999995\n",
            "sorry, negative response\n",
            "The quotient is:  10.175257731958762\n",
            "The quotient is:  0.0982776089159068\n",
            "The first value is an odd number\n",
            "The second value is an odd number\n"
          ]
        }
      ]
    }
  ]
}